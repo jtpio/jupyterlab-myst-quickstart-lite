{
 "cells": [
  {
   "cell_type": "markdown",
   "id": "41adf7fe-e4c2-432e-8e46-a2e4c54d1b01",
   "metadata": {
    "user_expressions": []
   },
   "source": [
    "---\n",
    "title: GitHub Flavored Markdown\n",
    "description: Suport for github flavoured markdown\n",
    "---"
   ]
  },
  {
   "cell_type": "markdown",
   "id": "e89a29e1-a7bb-44ca-b70d-ca3e3c08b9bb",
   "metadata": {
    "user_expressions": []
   },
   "source": [
    "The offical GFM Spec lists out the supported syntax but it's not clear how up to date this is.\n",
    "\n",
    "In addition, there are the GitHub docs on [basic writing](https://docs.github.com/en/get-started/writing-on-github/getting-started-with-writing-and-formatting-on-github/basic-writing-and-formatting-syntax) and [advanced writing](https://docs.github.com/en/get-started/writing-on-github/working-with-advanced-formatting/organizing-information-with-tables).\n",
    "\n",
    "\n",
    "This notebooks aims to reproduce all of the features of GFM for testing in the notebook, with the default and jupyterlab/myst renderers."
   ]
  },
  {
   "cell_type": "markdown",
   "id": "0520fa4b-b9b1-4b65-9f38-17d28a2fcacc",
   "metadata": {
    "user_expressions": []
   },
   "source": [
    "## Styling Text\n",
    "\n",
    "**bold with stars** and __bold with underscores__\n",
    "\n",
    "*italic with stars* and _italic with underscores_\n",
    "\n",
    "~~strikethough~~\n",
    "\n",
    "**this is bold and some _italics_**\n",
    "\n",
    "***All bold and italics***\n",
    "\n",
    "this has a subscript<sub>i</sub>\n",
    "\n",
    "this is a superscript<sup>2</sup>"
   ]
  },
  {
   "cell_type": "markdown",
   "id": "6dd88ebb-e28c-42a4-bce6-5d4024e03003",
   "metadata": {
    "user_expressions": []
   },
   "source": [
    "## Quoting Text\n",
    "\n",
    "This is not a quote\n",
    "\n",
    "> This is a quote"
   ]
  },
  {
   "cell_type": "markdown",
   "id": "9981510d-e5a7-4655-bf6a-2baf312ee623",
   "metadata": {
    "user_expressions": []
   },
   "source": [
    "## Quoting code\n",
    "\n",
    "This is `inline code` in a sentence.\n",
    "\n",
    "This is a code block\n",
    "```\n",
    "git status\n",
    "git add\n",
    "```"
   ]
  },
  {
   "cell_type": "markdown",
   "id": "9e0a11c7-996e-4f81-b145-8eb10f9abe10",
   "metadata": {
    "user_expressions": []
   },
   "source": [
    "## Supported color models\n",
    "\n",
    "The background color should be `#ffffff` for light mode and `#0d1117` for dark mode."
   ]
  },
  {
   "cell_type": "markdown",
   "id": "e62de41d-cde3-468c-b6cf-73c33bc1c580",
   "metadata": {
    "user_expressions": []
   },
   "source": [
    "## Links\n",
    "\n",
    "This is a link to the [MyST Docs](https://myst-tools.org/)."
   ]
  },
  {
   "cell_type": "markdown",
   "id": "17631646-6644-402c-b65e-2173c0dd249d",
   "metadata": {
    "user_expressions": []
   },
   "source": [
    "## Section Links\n",
    "\n",
    "Work just as expected"
   ]
  },
  {
   "cell_type": "markdown",
   "id": "9d9ffbc0-6028-4e2a-a061-d6a245f80f10",
   "metadata": {
    "user_expressions": []
   },
   "source": [
    "## Images\n",
    "\n",
    "`![This is an image](https://myst-tools.org/build/_assets/logo-wide-AK6GY6DB.svg)`\n",
    "![This is an image](https://myst-tools.org/build/_assets/logo-wide-AK6GY6DB.svg)"
   ]
  },
  {
   "cell_type": "markdown",
   "id": "946a61ff-7762-4de5-a5ae-28756d4a40e5",
   "metadata": {
    "user_expressions": []
   },
   "source": [
    "## Specifying the theme an image is shown to (HTML)\n",
    "\n",
    "<picture>\n",
    "  <source media=\"(prefers-color-scheme: dark)\" srcset=\"https://user-images.githubusercontent.com/25423296/163456776-7f95b81a-f1ed-45f7-b7ab-8fa810d529fa.png\">\n",
    "  <source media=\"(prefers-color-scheme: light)\" srcset=\"https://user-images.githubusercontent.com/25423296/163456779-a8556205-d0a5-45e2-ac17-42d089e3c3f8.png\">\n",
    "  <img alt=\"Shows an illustrated sun in light mode and a moon with stars in dark mode.\" src=\"https://user-images.githubusercontent.com/25423296/163456779-a8556205-d0a5-45e2-ac17-42d089e3c3f8.png\">\n",
    "</picture>"
   ]
  },
  {
   "cell_type": "markdown",
   "id": "18cdfe3d-790d-4726-9abd-4cc8313c6a80",
   "metadata": {
    "user_expressions": []
   },
   "source": [
    "## Lists\n",
    "\n",
    "You can make an unordered list by preceding one or more lines of text with -, *, or +.\n",
    "\n",
    "- George Washington\n",
    "* John Adams\n",
    "+ Thomas Jefferson\n",
    "\n",
    "To order your list, precede each line with a number.\n",
    "\n",
    "1. James Madison\n",
    "1. James Monroe\n",
    "1. John Quincy Adams\n",
    "\n",
    "### Nested Lists\n",
    "\n",
    "1. First list item\n",
    "   - First nested list item\n",
    "     - Second nested list item"
   ]
  },
  {
   "cell_type": "markdown",
   "id": "8d344588-7f6d-4562-9dfe-08dbdebdfe2d",
   "metadata": {
    "user_expressions": []
   },
   "source": [
    "## Starting at a different line number\n",
    "\n",
    "100. first\n",
    "101. second\n",
    "101. third"
   ]
  },
  {
   "cell_type": "markdown",
   "id": "918ddeb4-8162-4dfb-8c3c-51cb6dd39782",
   "metadata": {
    "user_expressions": []
   },
   "source": [
    "## Task Lists\n",
    "\n",
    "Also [see](https://docs.github.com/en/get-started/writing-on-github/working-with-advanced-formatting/about-task-lists)\n",
    "\n",
    "> task lists are correctly parsed, but `myst-to-react` doesn't render them yet\n",
    "\n",
    "- [x] #739\n",
    "- [ ] https://github.com/octo-org/octo-repo/issues/740\n",
    "- [ ] Add delight to the experience when all tasks are complete :tada:"
   ]
  },
  {
   "cell_type": "markdown",
   "id": "2cdddce8-57b0-490d-841d-2256eab244b5",
   "metadata": {
    "user_expressions": []
   },
   "source": [
    "## Using emoji\n",
    "\n",
    "@octocat :+1: This PR looks great - it's ready to merge! :shipit:"
   ]
  },
  {
   "cell_type": "markdown",
   "id": "334a5195-0ccd-42a1-9d13-440ad7bebb15",
   "metadata": {
    "user_expressions": []
   },
   "source": [
    "## Footnotes\n",
    "\n",
    "> Footnotes are correctly parsed. `myst-to-react` displays these as inline hovers rather than at the foot of the page, as in a web page who want to have to scroll when we can show info in context? this is better than paper.\n",
    "\n",
    "Here is a simple footnote[^1].\n",
    "\n",
    "A footnote can also have multiple lines[^2].\n",
    "\n",
    "You can also use words, to fit your writing style more closely[^note].\n",
    "\n",
    "[^1]: My reference.\n",
    "[^2]: Every new line should be prefixed with 2 spaces.\n",
    "  This allows you to have a footnote with multiple lines.\n",
    "[^note]:\n",
    "    Named footnotes will still render with numbers instead of the text but allow easier identification and linking.\n",
    "    This footnote also has been made with a different syntax using 4 spaces for new lines."
   ]
  },
  {
   "cell_type": "markdown",
   "id": "95fa31c5-9bc8-43f9-91b8-069ede1b8ad3",
   "metadata": {
    "user_expressions": []
   },
   "source": [
    "## Comments\n",
    "\n",
    "You should not see the comment below 👇\n",
    "\n",
    "<!-- This content will not appear in the rendered Markdown -->\n"
   ]
  },
  {
   "cell_type": "markdown",
   "id": "8af1df36-169d-43af-a836-fd26c1c602d4",
   "metadata": {
    "user_expressions": []
   },
   "source": [
    "## Ignoring Markdown formatting\n",
    "\n",
    "Let's rename \\*our-new-project\\* to \\*our-old-project\\*."
   ]
  },
  {
   "cell_type": "markdown",
   "id": "96dfccc4-381b-4ce0-a45f-6194c46088ed",
   "metadata": {
    "user_expressions": []
   },
   "source": [
    "## Admonitions\n",
    "\n",
    "> TODO: cover the full list\n",
    "\n",
    "\n",
    "> **Note** This is a Note\n",
    "> Just noting something here\n",
    "\n",
    "> **Warning** This is a Warning\n",
    "> This is something to check out"
   ]
  },
  {
   "cell_type": "markdown",
   "id": "c0cb3d23-d794-4786-846d-ee01b5a84722",
   "metadata": {
    "user_expressions": []
   },
   "source": [
    "## Create a table\n",
    "\n",
    "| First Header  | Second Header |\n",
    "| ------------- | ------------- |\n",
    "| Content Cell  | Content Cell  |\n",
    "| Content Cell  | Content Cell  |"
   ]
  },
  {
   "cell_type": "code",
   "execution_count": null,
   "id": "5dcc2502-6763-4a90-8cf0-f3bc64f33df8",
   "metadata": {},
   "outputs": [],
   "source": []
  },
  {
   "cell_type": "code",
   "execution_count": null,
   "id": "a8074bc1-a51b-4236-b080-c3d8f16c082d",
   "metadata": {},
   "outputs": [],
   "source": []
  },
  {
   "cell_type": "code",
   "execution_count": null,
   "id": "86ec1482-2ef4-4eb6-85b2-82786bbfa984",
   "metadata": {},
   "outputs": [],
   "source": []
  }
 ],
 "metadata": {
  "kernelspec": {
   "display_name": "Python 3 (ipykernel)",
   "language": "python",
   "name": "python3"
  },
  "language_info": {
   "codemirror_mode": {
    "name": "ipython",
    "version": 3
   },
   "file_extension": ".py",
   "mimetype": "text/x-python",
   "name": "python",
   "nbconvert_exporter": "python",
   "pygments_lexer": "ipython3",
   "version": "3.10.9"
  }
 },
 "nbformat": 4,
 "nbformat_minor": 5
}
