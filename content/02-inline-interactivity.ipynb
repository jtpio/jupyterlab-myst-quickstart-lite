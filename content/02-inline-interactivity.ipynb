{
 "cells": [
  {
   "cell_type": "markdown",
   "id": "613eaf50-e4f0-4328-b0be-c246fb216577",
   "metadata": {
    "user_expressions": []
   },
   "source": [
    "---\n",
    "title: Inline Interactivity in Jupyter using MyST\n",
    "subtitle: Using inline widgets in JupyterLab markdown cells\n",
    "author:\n",
    "  - name: Rowan Cockett\n",
    "    affiliations: Executable Books; Curvenote\n",
    "    orcid: 0000-0002-7859-8394\n",
    "    email: rowan@curvenote.com\n",
    "  - name: Angus Hollands\n",
    "    affiliations: Executable Books\n",
    "  - name: Steve Purves\n",
    "    affiliations: Executable Books; Curvenote\n",
    "date: 2023/02/20\n",
    "---\n",
    "\n",
    "The [JupyterLab MyST extension](https://github.com/executablebooks/jupyterlab-myst) allows you to have MyST renderer in your markdown cells that includes interactivity and inline-evaluation."
   ]
  },
  {
   "cell_type": "markdown",
   "id": "d3c1dba2-889d-4817-8d48-83d45c03a337",
   "metadata": {
    "user_expressions": [
     {
      "expression": "1+10",
      "result": {
       "data": {
        "text/plain": "11"
       },
       "metadata": {},
       "status": "ok"
      }
     },
     {
      "expression": "1+2",
      "result": {
       "data": {
        "text/plain": "3"
       },
       "metadata": {},
       "status": "ok"
      }
     },
     {
      "expression": "1+3",
      "result": {
       "data": {
        "text/plain": "4"
       },
       "metadata": {},
       "status": "ok"
      }
     },
     {
      "expression": "k+2",
      "result": {
       "ename": "NameError",
       "evalue": "name 'k' is not defined",
       "status": "error",
       "traceback": [
        "\u001b[0;31mNameError\u001b[0m\u001b[0;31m:\u001b[0m name 'k' is not defined\n"
       ]
      }
     }
    ]
   },
   "source": [
    "This is done through the `` {eval}`1+1` `` role, which results in {eval}`1+10` {eval}`1+2`  {eval}`1+3`. The extension can also access variables in the kernel. {eval}`k+2`\n",
    "\n",
    ":::{danger} Syntax is Subject to Change\n",
    ":class: dropdown\n",
    "The current syntax is based on a myst role, which may change in the future -- for example to be closer to an inline expression `${}`. This will go through a MyST enhancement proposal, and the `{eval}` role will likely still be supported.\n",
    ":::"
   ]
  },
  {
   "cell_type": "code",
   "execution_count": 21,
   "id": "90dffa46-b084-4b24-a650-e5f5a9aa526e",
   "metadata": {},
   "outputs": [],
   "source": [
    "import numpy as np\n",
    "array = np.arange(4)"
   ]
  },
  {
   "cell_type": "markdown",
   "id": "e8af4aa1-9d91-494e-9a76-4d57a611d9e0",
   "metadata": {
    "user_expressions": [
     {
      "expression": "array",
      "result": {
       "data": {
        "text/plain": "array([0, 1, 2, 3])"
       },
       "metadata": {},
       "status": "ok"
      }
     },
     {
      "expression": "array.sum()",
      "result": {
       "data": {
        "text/plain": "6"
       },
       "metadata": {},
       "status": "ok"
      }
     },
     {
      "expression": "array.max()",
      "result": {
       "data": {
        "text/plain": "3"
       },
       "metadata": {},
       "status": "ok"
      }
     }
    ]
   },
   "source": [
    "Let's consider the following array: {eval}`array`.\n",
    "\n",
    "We can compute the total: {eval}`array.sum()` and the maximum value is {eval}`array.max()`.\n",
    "\n",
    "This is done through using MyST syntax: `` {eval}`array.sum()` `` and `` {eval}`array.max()` ``, respectively."
   ]
  },
  {
   "cell_type": "code",
   "execution_count": 9,
   "id": "5ffba1f7-e455-4dce-a645-38988d97b01b",
   "metadata": {},
   "outputs": [],
   "source": [
    "import ipywidgets as widgets\n",
    "\n",
    "cookiesSlider = widgets.IntSlider(min=0, max=30, step=1, value=10, description=\"Cookies: \")\n",
    "cookiesText = widgets.BoundedIntText(\n",
    "    value=10,\n",
    "    min=0,\n",
    "    max=30,\n",
    "    step=1,\n",
    ")\n",
    "widgetLink = widgets.jslink((cookiesSlider, 'value'), (cookiesText, 'value'))\n",
    "\n",
    "caloriesPerCookie = 50\n",
    "dailyCalories = 2100.\n",
    "\n",
    "calories = widgets.Label(value=f'{cookiesSlider.value * caloriesPerCookie}')\n",
    "def fc(n):\n",
    "    calories.value = f'{n[\"owner\"].value * caloriesPerCookie}'\n",
    "cookiesSlider.observe(fc)\n",
    "\n",
    "\n",
    "percent = widgets.Label(value=f'{cookiesSlider.value * caloriesPerCookie / dailyCalories * 100}')\n",
    "def fp(n):\n",
    "    percent.value = f'{n[\"owner\"].value * caloriesPerCookie / dailyCalories * 100}'\n",
    "cookiesSlider.observe(fp)"
   ]
  },
  {
   "cell_type": "markdown",
   "id": "b8ac6e3c-2982-4921-a882-6b4eeaffe936",
   "metadata": {
    "user_expressions": [
     {
      "expression": "cookiesText",
      "result": {
       "data": {
        "application/vnd.jupyter.widget-view+json": {
         "model_id": "1a3a29dc05c546b68ea09de540c4445b",
         "version_major": 2,
         "version_minor": 0
        },
        "text/plain": "BoundedIntText(value=10, max=30)"
       },
       "metadata": {},
       "status": "ok"
      }
     },
     {
      "expression": "calories",
      "result": {
       "data": {
        "application/vnd.jupyter.widget-view+json": {
         "model_id": "21c8f44446634e429289d28430a2f370",
         "version_major": 2,
         "version_minor": 0
        },
        "text/plain": "Label(value='500')"
       },
       "metadata": {},
       "status": "ok"
      }
     },
     {
      "expression": "percent",
      "result": {
       "data": {
        "application/vnd.jupyter.widget-view+json": {
         "model_id": "290b76ef50224ec4bcc257dc2214c330",
         "version_major": 2,
         "version_minor": 0
        },
        "text/plain": "Label(value='23.809523809523807')"
       },
       "metadata": {},
       "status": "ok"
      }
     },
     {
      "expression": "cookiesSlider",
      "result": {
       "data": {
        "application/vnd.jupyter.widget-view+json": {
         "model_id": "e87490c60ca7406d8b59837ef1e47f07",
         "version_major": 2,
         "version_minor": 0
        },
        "text/plain": "IntSlider(value=10, description='Cookies: ', max=30)"
       },
       "metadata": {},
       "status": "ok"
      }
     }
    ]
   },
   "source": [
    ":::{important} Calculate Consuming Cookie Calories 🍪 🧮\n",
    "When you eat {eval}`cookiesText` cookies, you consume {eval}`calories` calories. \\\n",
    "That's {eval}`percent`% of your recommended daily calories.\n",
    ":::\n",
    "\n",
    "You can also edit this through a slider if you want: {eval}`cookiesSlider`\n",
    "\n",
    ":::{note} Improvements\n",
    ":class: dropdown\n",
    "There is a lot to improve both for formatting (e.g. format the numbering) and for the verbosity of the above code for linking and calculating the widgets.\n",
    "These are probably going to be a combination of a MyST library for working with simple inline widgets and showing numbers, as well as improvements and tweaks to the inline renderers for the mime bundles.\n",
    "\n",
    "But you can already do things! 🚀\n",
    ":::"
   ]
  },
  {
   "cell_type": "code",
   "execution_count": 10,
   "id": "600e74dc-6c54-4cb4-91c3-0e5107fcf589",
   "metadata": {},
   "outputs": [],
   "source": [
    "from IPython.display import Image, HTML\n",
    "\n",
    "i = Image(url='https://source.unsplash.com/random/400x50?sunset')"
   ]
  },
  {
   "cell_type": "markdown",
   "id": "edafa8a3-8dcd-4db3-a4cf-90c6aaf461bb",
   "metadata": {
    "user_expressions": [
     {
      "expression": "i",
      "result": {
       "data": {
        "text/html": "<img src=\"https://source.unsplash.com/random/400x50?sunset\"/>",
        "text/plain": "<IPython.core.display.Image object>"
       },
       "metadata": {},
       "status": "ok"
      }
     }
    ]
   },
   "source": [
    "This should be an inline image of a sunset: {eval}`i`"
   ]
  },
  {
   "cell_type": "code",
   "execution_count": 11,
   "id": "7a29588f-afb7-4e2b-99fb-132c6ab04372",
   "metadata": {},
   "outputs": [],
   "source": [
    "import numpy as np\n",
    "import matplotlib.pyplot as plt\n",
    "\n",
    "# Step 1: Predict the stock market, with surprising accuracy:\n",
    "data = np.cumsum(np.random.rand(1000)-0.5)\n",
    "data = data - np.mean(data)\n",
    "\n",
    "stocks = plt.figure(figsize=(10,2))\n",
    "ax1 = stocks.add_subplot(111)\n",
    "ax1.plot(data, 'b-')\n",
    "ax1.axhline(c='grey', alpha=0.5);\n",
    "plt.axis('off')\n",
    "plt.tight_layout();\n",
    "plt.close();\n",
    "\n",
    "annotated = plt.figure(figsize=(10,2))\n",
    "ax1 = annotated.add_subplot(111)\n",
    "plt.axvspan(450, 560, color='red', alpha=0.5)\n",
    "plt.axvspan(680, 740, color='green', alpha=0.5)\n",
    "ax1.plot(data, 'b-')\n",
    "ax1.axhline(c='grey', alpha=0.5);\n",
    "plt.axis('off')\n",
    "plt.tight_layout();\n",
    "plt.close();"
   ]
  },
  {
   "cell_type": "markdown",
   "id": "60a959ef-e31b-4383-9865-982e574debd3",
   "metadata": {
    "user_expressions": [
     {
      "expression": "stocks",
      "result": {
       "data": {
        "image/png": "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\n",
        "text/plain": "<Figure size 1000x200 with 1 Axes>"
       },
       "metadata": {},
       "status": "ok"
      }
     },
     {
      "expression": "stocks",
      "result": {
       "data": {
        "image/png": "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\n",
        "text/plain": "<Figure size 1000x200 with 1 Axes>"
       },
       "metadata": {},
       "status": "ok"
      }
     },
     {
      "expression": "annotated",
      "result": {
       "data": {
        "image/png": "iVBORw0KGgoAAAANSUhEUgAAA90AAAC+CAYAAAAoRmzvAAAAOXRFWHRTb2Z0d2FyZQBNYXRwbG90bGliIHZlcnNpb24zLjcuMCwgaHR0cHM6Ly9tYXRwbG90bGliLm9yZy88F64QAAAACXBIWXMAAA9hAAAPYQGoP6dpAABeSElEQVR4nO3dd3hU1dYG8HfSIKEmJPQWCCT0DtKlqYCIgKKIBfFTVLBjubaromBXVESxwQUUVBBUijTpvXcIPQQChA5JSJvvj8VmnzMlmUwymWTy/p6H55Q5M3NmMiGzzl57LYvVarWCiIiIiIiIiPKcn7dPgIiIiIiIiMhXMegmIiIiIiIi8hAG3UREREREREQewqCbiIiIiIiIyEMYdBMRERERERF5CINuIiIiIiIiIg9h0E1ERERERETkIQy6iYiIiIiIiDyEQTcRERERERGRhwR4+wSIiIi86uJFYNQoIDHR22dStIWHA2+8AZQp4+0zIScuplzEqOWjkJjkW78r4SHheKPTGyhTnJ89IvIMBt1ERFS0JSVJwB0cDISEePtsiib1M0hKYtBdgCWlJSExKRHBAcEICfSN3xX1mpLSkhh0E5HHMOgmIiICJOAuVcrbZ1F0JSd7+wzIRSGBIShVzHd+V5LT+dkjIs/inG4iIiIiIiIiD2HQTUREREREROQhDLqJiIiIiIiIPIRBNxGRj0lKAlatAjIyvH0mRERERMSgm4jIx7z0EtChA3DzzUBKirfPhoiIiKhoY9BNRORj5syR5cqVwKxZXj0VIiIioiKPQTcRkQ85exY4ckRvx8Z67VSIiIiICAy6iYh8yvr15u0DB7xzHkREREQkGHQTEfmQFStkWby4LA8e9N65EBERERGDbiIin2G1Ar/9JuvDh8uSI91ERERE3sWgm4jIR2zaJEF2cDDw3HOy79Qp4PJl754XERERUVHGoJuIyEeoquW9ewNVqgDh4bK9ZYv3zomIiIioqGPQTUTkI5Yvl2W3brLs00eWnTsDf/+tj0tJAfbvz99zIyIiIiqqGHQTERVic+YAEyYAqanAmjWyr1MnWaoUcwC4+27g2jVZf/55IDoamDQpf8+ViIiIqChi0E1EVEhlZgK33w4MGwaUKgUkJ0tKeb16cnujRsAXX8h6SgqwbZusjx8vyyFDON+biIiIyNMYdBMRFVInTuj11FRZPvIIYLHo/U89BfTsKeuTJwM33WR+jPnzPXuOREREREUdg24iokIqNta8/eabwPvv2x/XurUsv/oKWLfOfNuqVZ45NyIiIiISAd4+ASIico+xB3elSsALLzg+TgXdjjDo9pylR2riy/WtcSU1CCcvl8LqR35AyaBUb58WERER5TOOdBMRFVIq6L7nHmD7dqB0acfHde8OREWZ91WsKMstW4CrVz13jrmxcSPwxx9ARATwv/95+2xyrsukIZi5pz4WHIzCjtMVsPRITW+fEhEREXkBg24iIhdcvAjExXn7LMxU0N2une7J7UhQELByJfD448DLLwP160sLschIICOjYM7r3rkTaNUK6N8fSEwEHnrI22fkmvRMP2RkWpBptdjdduxiGS+cEREREXkbg24iIheo0eKClI6t5nTXrp39sRUqSNXy998Hdu0CWrQA7rpLbps+3XPn6K6lS+33paTk+2nkyJmrIaj48UjcOuUB7E20vwqy/2w5L5wVEREReRuDbiKibMTFSapzaiowYICMDntbejqwf7+sqxZhOXXPPbL8+2/gypW8Oa+snD8PWK2uHXvqlP2+TZvy9nzy2vKjNXA2OQSLD9fCI3/eYXf7vutB98WUYi6/D+QZp08D/foBCxd6+0yIiKgoYNBNRJQN46jrqVPAwYNeO5UbDh8Grl0DihcHatRw7zGaN5fR++Rk4K+/8vb8bI0bB4SFAb//7trx+/bZ7/vsM7nYUFBtTah4Y33t8WoAgKdar8OiByYBkJHun3c0QvhHL6H75AdxMaWYV86TgO++A2bNAsaM8faZEBFRUcCgm4goG//+a942BoTeGvXes0eWMTGAv797j2Gx6NFuV1LMrVb3UrytVmDECFkfOdK1+9gG3f7+wIwZBTMVXtl6qqLdvhGt16NB+TMAgEPnwzB45gCkZ/pjyeFaeGvpzfl8hkXb//2f1Am4fBlYs0b22bbdIyIi8gQG3UREWYiP14FeuetTclVa93ffSZGyefPy/7x275alu6nlyoABsly8WKd+b9oEvP02cOaM+djvvgOCg4Fp03L2HMa0cGcV1o0yM/V73K0bsGiRDtpt+4wXJGqk+/s+s9Et8hBm3/sL6pY7iwolrqBj9aN2x88/GGW3jzwjNRWYOFGmicydC6xdK/uPHweSkrx6akREVAQw6CYiuu6VV4DBg3UKc0oK8PDD8qW8fXvgiSdk/6uvAtu2AY89JgFir16uP8f06VLILLfUSHf9+rl7nIYNgcBAmdN97Jjse+YZ4K23gMqVgc2b5cIDAAwbJstBg3I2wm+sjh4Xl/287hUr5L0PDgb++UcC7+bN5bbt211/3vyUmBSC45ekOvnABruw6MH/4Y5oGa63WICZ90xHrzr78WjzTTjx/MewwIq9iRFIuFIyy8d94u/eqDduONuN5dKhQ/oz+8UXwNmz+jZjv3siIiJPYNBNRAQprPTBB8DPP+tRsDfflEJLISHAl19KKjegC6oZuTJatmIFcO+9EuhmZubufDdulGWjRrl7nMBAoG5dWd+1SwLi9etlOz1dqpw3aQLs2GG+39y5rj+HukAASOs1R0XSjNQ82yFDdOp848ay3L7d9WJs+WlbQgUAQFTYWZQqlmp3e3hIEubc9zMm9PkLlUpdQZOKCQCAd5Z1dvp6Mq0WfLOpFfYmRqDLpCG4khrksfP3dSpzAgBWr3Z+GxERkScw6CYiArB8uV7fsgW4cEFabAHA5MlAs2ZAdLQ+xraYmqMWV7Y2b3b8fDl17pxOL2/Xzv3HUdRoee/eMpqdlma+/exZmQtrtGED8OyzwPPPZx8EG4NuR9tGFy8CCxbI+gsv6P316kkAfv68HnnPb1dSg9D0m8dx7+932d2mUsubXg+ms3NPA0l3GL+xFebG1nF4TNxFcy7+njNZNGOnLGUVWHNeNxEReRqDbiIiAMuW6fUNG2Te8pUrQIMG0loIAJo2lcDUkZ07s38Olb4NAFOnun2qN0bq6tYFIiLcfxxFjeADMm/bkWvXZFRcjfAvWgSMHSsVxY8ccf7YmZnA3r2y3qCBLCdPdn78hg0SxEdGmvuPFyumL3q48l57wqJDtbDtVEVM39UQSWmBpttUEbWmFVwLul9stwo9ah288biOxJ4z9/V21PubXOOoGr6asuCtzxMRERUdDLqJiGAeeZ48GXjvPVnv31/m5AJAQID0tB43zv7+rswLNY62qfTwnNq5E+jTR9bbt3fvMWwZg25nQkKkENXDD8u2qv4M2KfrGsXFSUuywECdOfDTT/bp6ooqlNamjf1tKuj21sikMTh+e2lntP7uUSw+FIlfdzXAlO1NALg+0u3vZ8WDTbYBANbFV3V4TOzZMNP2vrMMut2lfvc6d9b7VI2GLVvy/3yIiKhoYdBNREXWzp0S3C1apNO1lePHZdm0qf39Hn0UePxxoGRJ4JZbZF9Og+4DB9ybmzxxol5/4IGc39+Ru+6S4mnGUW5jgbYffpC+4Pfd5zhAdxR0X7smFwc6dJDtOnWAjh2B7t1lW82bN7Ja5aIG4DjornM9C9tbha+MQfeHqztgw4kq+GJ9G7y4sMeN/S0rn3D58dpUkQ/Z5pOVkJph3/dNjXT7WaQAAEe63ad+9154AQgNlc+XylrZswcYPty9dnhERESuYNBNREXW/fdL0bAePaRoWKlS0jrLyFHQrUZtL12SKt+A40Dwzz9lzvW778qXfWPQfeVK9gXFjDZtkvtvk8FRjB0LdOni+v2zEhQEfP659DFWgcirrwK33SbByf33A+XLy/6aNSXV22jVKvvHnDhRAmh18aJlS1mqwm+qgrvVKqPbS5YAL76og/FOnewfM+p6hy1vjHTHXSztcKR5yeFIHLtYFgAw576pqFDyqsuPGRV2DmHBSbiWEYAN8ZVNt62Pr4LP1rYFAPSpKx+cXWci8N2m5jh2sYybr6Jw2bnTvm2dOy5dAhKuJyB07iyfn8WLgUqVdKG+r7/O+x7wy5ZJ4cTExLx9XCIiKnwCvH0CRETectSmdXLDhkDXrjLXUxU9i4x0fn+LRQeCKo06OFjf3revLI2p2GXKAGXLynPHxgIVK2Z/nnv2SNBaoYJUTgeAtm2zv587fv9dAt9OnaR9mi1/f5mbbSwKt2OHBDZnzwI//iijhh98YL6fSolX87pVZsGffwJ33mk+9u239XxbI/Vee2Oke/Fhx/Our6TKFYgyxVLQMypnVwMsFqBXnVhM2d4E325qiZT0ADz2dx883HQr1sdXuXHcw023YPa+GOxNjMBjf9+B4gFpSH7tPfdfTCGwfbt8BmJi5EKTv30igMvUxa6KFe37xEdH68+ibbZLbmRmAjffLOvVqwMffph3j01ERIUPR7qJqMiyHbFt2FCWr78uy27d9HxuZ8LD9Rf5w4f1ftsK4ICMKH/7rW7RlV3weOoU8O+/Mqqtts+fB/z89LnmteLFJVjwy+Kvw2uv6fWAAAkw1q+X9mLvvisjiMb3AtBp+CptXQU4CxeajwsJ0e+/LZVefviw7qXujnPn5CLAF1+4dvyh86F4ePadAIDIsudv7G9W8eSN9aiwc9l+Vhx5vIVM7p+8vQm6T34Ih86H4Y1/u2LbKWlB9lPfWegTvR/FA/QHKiU9EDtOlc/5kxUiU6ZIX+1du4CXX87dz1sVUVO/d0bqdwuQXt55Zd48va6yPYiIqOhi0E1ERdKlS/bp3Sr1uV8/YOVK4Jdfsn8c42i3MYi2LRR2993ypf6ee3TwmF1/4IcekpH3b781769b1zyint/695fg+rHHZD44AMyaJRcEjH77TUbkX3lFX5ioV0+W8fHSHkz1BFduv915wF+5srzu9HT7lm05MXq0pL4/84yMqGZnyKw7b6xP6PMXRrZdhb8HTcXNNY/c2F+n3Fm3zqVdtTj0qWtfWlulrN9edz/8LFbUtXn8iVubuvV8hcGVK5IxoXzyifMLMa5Qv2eOgu7u3YE5c2TdUYVzo/R0mQLx/ffOj1F1Gv74Q++Li3P9XImIyDcx6CaiIkm1sQKAqlVllFa1BgOkMrir7bgcBd2qCjcgX+zHjQOqXM8YbtZMljNnyiixI2lpwD//OL5Npa1702uvycUAVSjNtqJ7aKgE56tXA2PG6P1ly0rwDEjV6K1bZX3aNJn/+umnzp/Tz09+ToD7fc7PnQO++cb8OrKSkWnBhhNywgPq7UbXyMP46JaF6F03FoMb6Yg9PDjJrfOxWIA/B/0C63/fgvW/b6FfjG5iXr7EFYSHyOPGhJsnBv+xt55bhfgKOqsVaN1apioA+mLNkiXuP6b6XXcUdAPmqvjOfh8BGX3/+GMppGh73LVrksXRrp3cZryYY/y/hoiIiiYG3URUJO25Htt06SIjURs3SvDtDhV0v/CCFGWzWnVBtv/+V1KojQH8PfdI0bb9+6Vw2cWL9o9pHCmvWFG+xPfsKUHiewVoOm/fvjJP3Vb9+s5HrFWK+S+/yMWFiAhg4EDZrlLF8X2Ubt1kaVvwzlU//QRcvaozBebMAY4edz5h+OD5MKSkByI4IA3T7/oNfhYd6TavpNPLG5Y/7d4J2TCOekeE6EC+ZpkLpuMOXwjFjtMV8uQ5C5LTiX43fjenTdPtvLZt0/UMcsJqBVaskHV1wcZWjRpSHDElxfGo9MmTkvkydareZ3vc1q3yf8ratVJAzdj7OzFRX0QgIqKiiUE3ERVJak6xSnfODRV0A9J+7OhRPUqtqoEblSoFDBsm6/PnOx7dVSPlt9wiX/obNQLmzpW07twUlcprVasCGzbI6N9ff+n9lSs7v48qpqban7Vunf3ceUUF3UuW5LzlmtUqVaoB4MsvJXXfagXufqwsLqY6ztfffn1udcPyp+HvZ35CiwXY+cQ4jOm2CEOb5U2z5/sb6yHStlV1ZBccqCc1q8B8Xqzhg+cjYg/Jh7tGDbk4FRkpWROpqc57u2dl/375/SlWTEahHQkI0J9J2xoDixbJOXTsKOvGxzVSXQUAYNQoXVRR/R5wtJuIqGhj0E1EXme1ShCcVWpnXlOjacZ+1O6Ksol9vvtO5qVWrOh8dG3MGGDkSFn/+mv5km6k5jo76ldd0NSpA0yYIPOx335bCqkZU8ptqfdcjVy2bu36c7VpI6OSZ87kfK5sfLzMqw8IAAYNkiwEf39gw9YgfLGnh8P7qKC7cQXH/d0alD+DVzqsRKB/3nx4A/0zceCpsXiq9Tq83knn0D/SbDNKBKZiUMMduKmqVObaecY3iqntOh2BfrOH4K+4pjhwRJqqqLoHFotuN7dxY84fW6Wlt28vRQKdue8+Wf7wg3n/m29K6rgtY9C9fLm+iAZI8UNAih02aSLrahoFEREVTQy6icjrxo2TkaZ33sm/51RBd16PdAMy7xOQCtnOUqwDAiQwrVFD0k9VMSdFzQlV878LizffBE6cAGrXdn6M7YWOnATdQUE6INuzJ+tjbanRxlq1pEp6p05SVA0AVp6u4/A+m05WAuA86PaE2mHn8UXPeahRVs87qFbmEs68+CGm9p+BeuHSvHrPGReLDuSzS9eK4dD5UJePH72yI2YdbIQ7ljyLJ/4jcxWMv1OtWsnSnaB75UpZdu6c9XEPPigXYNaulYs5GRnAjBnmdn9GKui+fNl5jYUmTfRn27ZgIBERFS0MuonIq6xW4KmnZP3tt2VepaelpOj2QHkRdNv22lYjuKo3tTMBAcCAAbJuDLozMnT6u6qo7ktsg24VVLkqJkaWOU3ZVdWp1f0BmYMPAOvO1EamVee4Z1otWHwoEgsOytWDTjVsmrp7QXBgOiwWoF6EFFXbmxhuOueC4OC5UMR8NQLRX43AsYsOJvvbSMvww5z9usJZSoq8njqGayC5GelW98kuY6RCBd2Gb/NmGfFWlfkdUZ+l774DLlxwfEzjxgy6iYhIMOgmIq+yHUmaPVuvL1mSt71zFVWluGxZ+4DZHRaLFHwaOFDvK15czz/OiprzPXeuTq8/cEAuDISEyKisrwkLkwriwcFS/bxcuZzdX10oyelItwqUVLVqQC5qhARn4mJaCPaek3Ttk5dL4tuNLdB98kNIz/RHaPHkfB3pzk7t0HMI8MvA1bQgHL9U2tunc0NGpgV3/TYQJ6+UQnqmP9bHZ1MVD8CKYzVw8VpxRARfxogYPWnaONKtgu6dO4EnnpDfK2dF1T78UFrBZWRIMKxGpJ1N8zBSWSWbNwO//673V6um1++5R5bLl0uGyvjxsl2hAjBihGRPKI0b6wtK+/ZJ5XwiIiqaGHQTkVfZFi5S8yE3bpQv187a/OSGsYiaqwW8stO0qfStVu6+W4Lm7HToIMH/6dNSWRuQFFdAUu6dpacXdsOGyWt2pxWUu0G3Ghk3Bt0BAUDLJmkAgI2nquLAuTBEffk0npx7+41jWleJN1Ut97ZA/0zUCZMIbncBSjGftK0ptiZUurG9NzE82/usPS4tA7pXj8UnLX9Bl/bXEBoq/d2VqlWB8uWlT/Y338hnplgx4PHHzY915Qrw8svAF18AX30FbNok+yMjgfDsTwXNm8ty40Y9Ml2qFPC//+lj+vSR45KTgaFD5QJZiRKy/PJLc/X9xo2lMn+DBpLR88Yb5udTF9kuXZIAnoiIfJePfp0josJCVelWcy43bJAvo/PmyXZGhnutgrKSl/O5jdq2lQrJDz4oPaxdERSkv4y/8orMQR0yRLZ9MbXcqGRJKYqWU8b08suXXS/Ap37uxvRyAKhXRyqD7z8fga83tEJSWpDp9jc6Lcv5SXpYg+stysaua4OftjQtEGnmM/bIL1SpIKk85krQvef6MQ3DExDkn4FF088hIcHcYs9icTxS/e238v+DYpxu8MILOih3tRihGumeO1fa+JUqJaPTN9+sOwa0bQs8+aSsq2r9/fvLZ1mdqxJ6fVr72LGy/OYb4Px5WZ8wQTI95s2TC2/16klxQCIi8k0MuonIa6xWPaI0YoQst2+XlMw339THHTmSt8/rqaA7JARYtQqYNEn3gXbF00/LfRMTzcXkHn00b8/PV6ig+fRpoHRp4D//yf4+x4/LPz8/+4sZdWtJ5Lb/fATmxpoLqh1/7hO0r57DMun5oMn1dPf5B+pg6J93YtCMAV47l5T0AIxZ0QFzYyUtRbVPcynovj5SXy9MXo+fn1yIstW0qeP7x8VJr3fAnPmQkSGjz5UrS5V6VzRvLmniyh13SCYEINNcNmyQ6R4332y+X79+ev2VV+Q+xlH4bt2AmjXl4pAqkDhsmFxM7NVLWqElJkqfeiIi8k0MuonIK6xWmR959qykit5xh6SApqfLnEqjAwfy9rnzsl1YXggI0EWcVLr9b78BN93kvXMqyEqUAKpX19sffghcvZr1fVatkmXTphKoG9WJlJHuBUejse+sOVCsXOpyLs/WM5pUSDBt/7qrIRKulPTKuby3vCNeXdL9xna/GPkF25sYnmUvdatVB+YxYaezfI7GjR3vv/de+TxMnOh4usGwYfaZDc6EhEgv7qZNpYWYmq8NyOdNzS23rbNgrIzeqJH8n6b6wdue//bt8n+cI8Z6FkRE5FsYdBORV2zfLoElIMWHgoKcV7GOjc27501P18WV8nqkOzdsR1+za3FU1Nn+7GbOdHzc5cvAqFESnAGSymurbi2Jgi5ek/QEf0smivmn48mW6/Nszn9ea1oxwW7ftoQKpm2rFXhyTm9Ejn0GI+b28ti5rDhW48Z6cEAa2lY7Dn9LJq6mBSH+cmmcvloCT8/riT1nzBc03l52M66mBSHALwNRZbOe1Kz6Xdtat05Gur/9VtdqMP7M2rfP2Wtp2FCKIk6dKunljth+JsLCzNulS9sfYwy6d+xw/LhLlgCrV+fsfImIqHBg0E1E+W7vXuD77/W2qhTsLOjOq5Huq1dlzvS1a5L+XaNG9vfJL8aRvEaNzHNayZ6xGBpgX5BPGTXKPFXB0cWMyOoZ8LfoycEPNNmGxJc+xBc95+XBmXpG1dKX7PZtMRQxA4A1x6th/MZWOHIhFOM2tMbxS6UxbWdD/GdRN4R98DJ2nCqfJ+cS4Kcn1SenByLIPwO1rxd625sYjj6/DMKX69vgoVk6D3tbQgW8vexmAECdsHMI9M96Yn4dx23Ub9i8WbcHu+02vd/V+dw59cEHsnzmGdeOV7/f338vbcacee653J0XEREVTAy6iShfXboko5RffSXbDzyg032dBd1qZBqQEag33kCWaavO3Hor0KWLrLdvX7AqgxuDbtsqx2RPzbVVdu1yfNzKlbJs1gwYMwbo29f+mKAgIKqUTm9uWiEBJYNS4e9XcCqW27JYgHe7LEa7asfwUjt5kVsTzP3vvlhnjjjvmzEAg2bchfdXdcT5lGCMWp436RSx5/RQb40yFwAAMeEycr0+vgrWx0uF8g0ndGlv4/pHPRZk+xwBAUClSs5vT00F4uNl/f33pYiZscBZXnvhBem08OGHrh2vUtMBnbb+7LN638cfy890/XqpPUBERL6lAH3lJKKiQAXbirEfrzHo/vhj3cNbFR9KTQXuvx94911g/vycPW9ysp7XCwA9euTs/p7WoYO8ttGjpd0YZe2RR2Sp5tfu3m2uZA1I2rGqDzB9uhS5UlWobT0e/e+N9SYVC05P7qy81mkFVg39EV0jDwMAthiC7t1nIvDbbila0L7aMQDmNHAA2Hk69yPdyWkBOHaxLACgYflTmDFwOgAgppwE3WNW6nx+P0smUtLlasmWk3KuI9uuQu+6rs0f2bgRWLxYCpIZW80NHarXq1WTC1gJCcCvv7r7qrLn7y8F1RwVfXMkMlK3BFS6dQM+/VTqWTz5pK7hMK/gJlgQEZGbGHQTUb76+WfztjHoNlYObtpUvjz7+ckX6JMnzQXWbIutZcd2Xnj37o6P85aAAGDyZNcqcZMUwTt6VObfFi8OpKRIhWmjHTtkKkFoqPlz5sjj0f+iQbmTqFjyMlpUOuG5E/eAhtfbhx08F4Zr6XJVYfSKjsi0+qFfzB483Wadw/vtSYzALzsa5uq5D1wf5Q4tnoztj49Hi8onAeiR7iupxW4cm2n1uzGvW6XCN6tkPzfdmcqVga5dZUS4Sxdg1iz5mffpo49RvbaDgpxfYPGWIUPMU1ratJF08tmzZbpLr+vT7hl0ExH5HgbdRJRvjEXMFNtgaNMmYMoUGQUKCdEFswYNMlf3Xb5c5uouWuTacxufd9Ag5y2IqPCoXl2mJqgq9LYp5qodXatW9oWtbBX3T8OG+z7HoafHolSxPG4M72GVS11GqaBryLD63QiC1xyXlO4RrdejW6T5asS8wVNw5/UK4w/O6oejF8rYPeau0xGYs18mUq84Wh3HL5W2OwbQo+XR4Ymm91gF3ba2n6qAjEwLtp+SK2zNKp509WXa6dtXRpCNWStly7r9cPnCWHTNtm6DKvKnMnt8SVpKIPasiEFGOr92ElHRxP/9iCjfHDyoe+oqtkF38+bA4MF6W1UtXrZM5moqCxZIkSxX08T37ZPlgw/KaHtBms9NudOggSxtg+5t22TZooVrjxMcmI7gQCf9nAowi0UHufMPROGhWXfi0HmJ7mLCE1EuJBlliqXcOP7W2gcwtf9MRJY9j/RMf8w/EIUXF/TAksORAIC0DD80HD8ct/8yGD9sboZOE4ei6TeP2z8x9NzsFpXMwXPjCqcQ5K/fy+Gt5ArI37F1MWV7Y1xNC0KZYimoW+5srl9/iRLAww/L7/RTT+X64Tzqq6/kPF9+2f42VRzw8GGZSuNLZo7uj1/fvBerp7dDZoYF/3vhQUx6/iGkpQR6+9SIiPIFv3YSEa5dsw+Gc2v2bOCHHyRdWrVzUn10mzeX+ZbTp9u327HlSuusrAoPXb4sz6MKatlWvabCr25dWdpWuVcjhrbt2HxRvYgzAICRC2/F/7Y1BQCEBKaiUknpM/5o800AgPIlrsBiAUIC0zC4kbxBj8/pg4/XtEe3/z2EjEwLFhysfeNx31vRCQBwNjkEGZl6KFu1I/tsbVsAQKvK8abzKRGUhq3DvkHnGkcwptsiDKgn/bx+390AQ2ZLFfPbog7kWbG68eOlkJqrF1i8pV076eP93nv2t1WsKIXfMjPtp0oUZtZMC/aukJSlNb+2w7n4cji8uRaObInEP1/f6uWzIyLKHwHZH0JEvuzcOUnhbthQihRl5cgR4JNPgNdeky+IjmzdKgH3W2+Z92dm6qC7Xj3Xi4U9/DBw4gTw9tuyHRgoqeEbNuhjVq8GBg50fP+PPpIRcUWlIpPvUNkSxnn7mZm6H7KxMryvUoXLjKLCzt1I+X6v2xKUC0nG7XX1PIsukUfw7grzVa3P196EJUcib2wfvhB6Yz3uUhnULHsBgLQCG79RVz5sVcV+Hny9iEQsHTIRAJCeaX+Nv0/dfdm/MBcVK+b8/6SCxlkKvMUiF5A2b5bpMDEx+XpaHhO/t/KN9eDSyThzROfVb/unCXo+PRf+AVm3jCMiKuw40k1UxP3zD3D6tFQDzq4f9i23SHqksVqwrWbN7ANuQFImVcVxNU/bFYGBEuQrYWHS7svIWJXc1qZNer1nT6B3b9efmwoH1cM5NlZGYJ99FnjsMclyCArSI+G+rGlF+4JkocV1SnmQfwZe6bDyRtE1AGhbNQ6BfuaS7yMX3oq5sY7fsP1nywEA3l3eCfW/HmG6LdpB0G8U4JeJNzsthb9FgquaZc+bLgCQUJ9V29oXhdn2hU1urF84WRYJB/TVkfTUQFMQTkTkqxh0ExVxW7bo9TlzZDl3rvTPvnhR35aWpkcS582T0eZ4c0Zplinqd90lxc+CgszVhl0RaJj2Fx1tny68davz+6pzfv994O+/zY9FvkEF3adPAytWAGPHytQGQDIbisLP/Naog3ioyVbTvnPJwVneJzgwHc1s5mKXDLoGAGhdxX7Oxq1THsCG+Mp449+upv0zBk53KU387S5Lkfzau8h4820cenosyhS/lu19ihoVdO/LuyQAr0q6GIyt85ve2M7M8MeeFearrif3VwYRka9j0E1UxK0zdBOaO1eWvXtLBfGRI/Vtq1eb77dtm/SUVtLSgA8+cP48KrifMMG9dN8pUySAmjBB5kUaHTzo+D5paXpu5ODBLJ7mq0qXBspfbzmt6gcoRWE+NwD4Waz4qe8s7H7yKzx3kzS4/6jHgmzvd5MhuN795FdIfPFDHHx6LL7qOdfh8Z0mPmzanjd4CvrX2+PyeQb6Z8LPYs22mnxRpVLK97j+lhZo+1bFIC0lCBVqJ6BqgzgAwJkj8ssaUUOyLk7sY9BNRL6PX0GJiojjx6WA2YQJel9aGrBxo97evl3ScxVjv9hJk+wfc9o04OpVWX/tNeCNN+yPKW3oNBQaCtx7r3vnP3iwVKeOjpYvpkuXyj9ARtyTk+3vc+gQkJEhrceqVHHvealwUKPd06eb9xeF+dyKxSLzqD/ssRDHnv0Ut0Y5uRplEBl64cZ67bDzKBaQgVqh5xEVds7h8SnpOm3gpqpx6FzjSG5PmwxUJf6dO83/FxdWKpU8svkhhFc/Y7qt8a3SXuDk/kr5fl5ERPmNQTdREfHKKzLaPGwYMGMGcPPNMnqclAQEXC+pmJAgc6+V+Hgpnla5MvDTT7KvTRt9+7lzMn975kwpWGbr00/lOVWBo8cfl4JHeaFzZ6BTJ6DM9RbDjqr9qnmRdetm36eZCjcVdCfYTG0uSkG3EuCXiWplLrl07OBG2xERchU9o2IR5K/nd4cGp2BI0y3oUesgdjzxNdpXO2a636Q7/8CaR34olC3WCrLoaMDfX6b2nLCvTVdoZGZYMPuDvlj/h/zBqFj7FMKr6fZwgcVTUa+jDOcnHKyIjDR/r5wnEVF+YfVyyhNWK7BwoYykhod7+2zIEWMwfdddsly2TJb33y/znRMTzaPbAPDcc8DJ69M+27WT0eWEBKkM3bs38PHH5uNvu00XTIuIAGrVklH2Y8eA6tXz9jVZLFK5etMmKQLXoIGMbD/9tKQbB1+f0so2Yb5PBd22ikp6ubsiSiTh6LOfIdDfvnr0T31n31hf/OAkFH9Pp7J0qH7M7njKvWLF5LO8d6+MdhfWDJ2EA5WwdX6zG9sVoxJw/mTZG9sRNc8grMo5FC+ZjJQrwTh9JAKV6tgXAyQi8hUc6aY88eGHwK23StDtS/1FC5Pjx4HatYFXX5XAODXVfHtcnPP73nGHDlrm2kzlnDVLlp06yYh2YCBQrRrQq5f9BZb4eAnax4+XFl6qLZi/PxAZKcu8ptpFqXnd338PfP21jMAvXy77mjRxeFfyIepzYKuwtJHypuDAdAT4Zd2yqViAucp5ZNnznjylIk2lmO/a5d3zyA1jhXIACK+eiPDqeqQ7osYZWCxApbpyRZfF1IjI1zHoplw7c0b3QY6L0/2UKX998IFc8BgzBujSxVzkLCHBedBdu7aMTjsLupVJk4AKFcz7jCPIL74oaeiApJFPn553qeRZUcHWnj2ScfHee/o2VY29aVPPnwd5l3Gku1MnyXb45RdOK/AUvq+e07ChLHfutL/NapVR8PQCntVvDLprtTwI/8AMhFbSF2qCS0kRjkp1JYf+n69vxdrf22DW+3ciNTkof0+WiCgfMOimXFu2TBfTAmSkMzPrQRPyANse28aLH5s3O77Pf/8rtwUH26fntm6t15s3B2rWtL+/Mej2Vgp3y5ayXLsW2L3b8cWFZs3s95FvMY50N2wobcPcLdpHjr3fbSEAYHzvv718Jr4tq5Hu774D6tWT7LKCTAXdXR5ZjIFv/QoA8A/U2RIVaksqeUyHvQCA1KRi+GdcT2z7pylW/dI+n8+WiMjzGHSTW/btk1Ekq1UHe/fcA5QqJSPfmzY5vt+6dcBjj8kXYtv0Z3Jferp9Sy9AV7/dvl2WVavq2wYOlBRsVV3ctuDUQw/p9f79HT+vMdBWrW7yW9u2sty1S6fCG1WsyBTjoqBUKb3Oiyye8UK7Ndgz/CsMa7Ex+4PJbWqke9cu+wvYw4bJ8rXX8vecspJ0MQSzP+iL+D0yAd2aacGpg5IWFdN+L4qV0P3YH/h4Ejo9sAyNe8gfpWoNjqPbYwtNj3fmSEQ+nTkRUf5hITVyiwqw7rtP76tfX4K/GTNktLtVKwn6MjNlru/Zs8AttwCXrhfV3b8fGDcu/8/dF61Yod9Xo4QEoFIlHXQPHy7ByVtvAf/3f+ZjO3Y0bw8aBLzwApCS4jzorlZNr3trpLtCBUmRP3gQeP992VeyJHDliqy356BJkTF9OrBmDTBkiLfPxDcF+GUiJjzR26fh86KipHbG1atSgNJRllFB8sfofjiwvg52LW2AV+eNxpmj4UhNLobA4qmmedwAUKvFYdRqcdi0r1oDc3pSRjormROR7+FIN+XYtWuO90dFAd26yfq//0qwFh0t7ahq1JAUZWNg+PXXMmJOOXPwoLy3Rj/8IMtevfTPAAC2SRvUG0F348YSeJ8+DfToYX6M0FD77RkzJKOhXj3H52IcUfRm1Xo12q0C7Qce0Lc99lj+nw95x8CBwGef6RZ4RIVRYKC+iLlzJ7BkiXSEuHjRfFxSUv6fmyMH1svcpLQUmYsdv0dSqirXPQE/B1XxbZWrag7Mz58MdXIkEVHhxaCbcmz3bsf7o6KkgBcgo00rVgCxsfbH/fCDHn1cv94z5+irxo2T99kYSF65IsExIHO0Fy3Sc1k3bpSLJHtl2tyNFHJnRZB695Zl166y7NUr63mxMTHyZVAF995ie1Hg//4PKF5c5kZ27+6dcyIicleLFrKcNEkKXfbsCXz0kfkYR39f81vSxWDTdmaGH45fTzOvUi/epccoEXrVtH0uPgyZGfx6SkS+hf+rUY5t3ep4f506cnW+YkUJ9L780vFxUVF6hNTZY5G9gweBESNkffJk4NQpWV+0SEa+a9WSlH5AX9R44w2gRAnpXR0amn3P18mTgXfekdFtV916q/188PxmLAJXurR8vvbvB1atAvz4vxwRFTLq//rffwfS0mTd2JkBKBiZYnE7q5u2LySURfxuGemuUu+4S49hexE4Iy0Au5fVw6UzpRzfgYioEOLXUXLZ6tWS3uYsUA4NlT+eN90k26pdky1j0L1li/vns2dP1r2nfcXVq8DJk8Dixeb9FSsC06bp97l3b/3lpVMnfVzG9YKxjRtn3+YnNFQC9fLl8+bc84uxcnVUlLzOatWAMmW8d05ERO5q2RLo0CHrY9asyZ9zceRcXATi91TB2ePlTPuPbK2JU4cqAhYrqjc65vLjVY42j4rPGHU3xt73LNb82jZPzpeIyNsYdJNLli2T0dN27ewD5Y8/Nqecq1FHZ23DKlUyj3SrCts5ER8vhdvq1HHv/oVJ795AZCTw+ef2t02eDPz9tz5OUdVvjbw9Gu1JxqA7goVvicgHqAvYtkaNkuX06fqiqqdt3gx88glw5rQfrFZgxqvD8P2Tj2Lr/Kam4/76+A4AQNX6x1Ey7KqDR3Js0OhfcMdLs/DUlLEIKSP3y0z3x8Jve+DMUS8WDCEiyiMMuskl8+fLcvdumasNSNuvSZOkwrVxTq0xALJYgAsXzEW2LBYJmAMCgPPnJYDOqbVrZXntGjBzpuPK3YVZWhqwYAFw+bJc8Lh2TUb2AXm/lblzpUJ5eDhw8816v58f8Pjj5sds0sTjp+01xnZR2Y3mExEVBsZClf6Ggt4jR0pW0smTwPLlnnnuXbuAf/6RKToffyxzzEeOBN77bylcu1QKl89IsbMzRyQtKrTyOdP9o9vvzdHzlQy7gmY9tyKsynk8+dPXeHb6p6jbdh+smX5Y+lMXnIsP8/kL7ETk2xh0k0sSEszbQUES1D34oP2xxqA7JkZSfFVRGKVYMT0ivmtXzs/HWEDmrruAZ5/N+WMUZK++KnOl77rL/raXXgKO20yVe+QReU+NvvpKCqkpDRrk/XkWRC1bevsMiIhyzxh0jx0LDBgATJggRSJvu032eyLFPDNTOkLcdpukuL/4or5t5bJiuHSygt19ej0zB72e/RuNe2xDZLNDaNbT/bljJUKvokz5S+j6yBIAwO5lDfDl/U9j/NAnsex/nWDN5JVVIip82FiFXLLX5qJ1+fISeDtiDLpbt5blt99KYPzcc/q2Bg1k9HbXLgkwc2LHDvP2Tz/JXOQlS4Dq1WV0/e67c/aYBcnHH8tywQJZhodLr9aoKHnvba/4P/GE/WP4+0ubtrZtgXPngKZNPXnG3rdqFfDbb8Arr3j7TIiIcq9uXb1ep460e1SaN5eCl3lRjDQjQ1rtde0qj7tpk2RZOXLiuD8ittlfwa0cfRJRrQ+iVd+NDu7lngq1T6FsxfO4kKBH1Zf+1BVVYuIR1fpgnj0PEVF+4Eg3Zctqta+SmlWBqqpV9airCrpr1AD++MNc4EuNvO7aJSOyrVsD48e7Nkd75077fZ07S6uoW26Rfr25KdLmTY5ef69ewIYNuqq4xQLcIVPn8Oij8v46YrFIMLp3r4yO+LJ27eSLY4kS3j4TIqLc8/eXv4mPPQZ062a+TV1EzYuge9w4Gc1WGWlz55pvL1tWLmy3ayfb26b1AwD4+esJ5cGlPdM0vMtQGe2u1kAXZTt1yH6knYiooHN5pDsjv6p1UIFz5ozMmfb3l6DvP/+R1OWsPhIdOgArV8o8Y2fH1a8vj7l7t/Tu3rxZ/pUpA9xzj/PHTkmRdlDGOW4AcOKEed/cue4XD0tPl2WAF3JBDhywf20xMfbv42efAX37Avfdl3/FdIh8En+BCo6MDP48DB59VK8b35aGDeXvxKFDktlVyqa71uXLcqG7RAlJS8/KwoX6b05ysnm7a1fgzz+BwEDgyhVg3Tp9vy5DFyPtWgAq1DoDixWAB+ZcN+62AzWbHEGpcpexYkpHLJ98M84eKwc4KdTqlkz5l5GRwe+6ROQWf9sv7g5YrFbXSlMsXbo0t+dDhdTRo8DEiRIMuzp3OjkZSEoCypVzfsyZM8DXX8sf95AQnc4WE5N10H3okFTtLlUKGDQI+Pln+TJgq1o1YOhQ187XKClJrvxXrAjcf3/+FuaKiwN+/NF+/333mXtRE1EeunxZevKFhDifN0OelZoq//l262YfQZJDn34qH92hQ+XvndHPP+vaJ8OGyd8zZyZMkKJsgAT5P/4oAf6IEfZ/w7fsSMafM4MBAPU770JEzTN59Gqyd+ZoOHYvbYhS4ZfQvPfmPHvc1PRUJKUnoVtkN5Qqxs8eEeXczcZqxk4wvbyAunABmDULOHvW22cCnDolywo5yOgKDs464AZknnLVqvLH3Th/7PBh5+3GABkJBoDataX9mO2XDSUuzr2q5seOyXe/Q4fs57J7UmqqVGJ3pHbt/DsPIiIq+MpL4XCcOaOngV26JH9TDx/Wxx054vwx0tL033gA2LZN7h8cDISF2R8fVTcd5evtQ4mwiwitfD5PXoerSpSRFParF0p4ZFSdiMiTXE6e7dixoyfPg2y0aCHzlhctkj+CORUbK1e6H3lEAtvc+OUXaRPWti3giY9Bjx56PTRU2oi9/ro8nyPPPivvzWOPyfksWKDbmNm67TZpc5ITq1bpx7NYJNUuP0yYAPz1F1C5srymffuAMWNk1N3Xi6ARedXJk8CMGZJ2w5Fu77h2Ta42N2smV1MpW3/+KX+rmjWT6VrDh0s6+RdfAP/+q4+LiDBXIFcyMoD166UtpbJtmwTut9xirsGinLx8EjOuzkDV4HIIyOdR4WKVk7Hy5XawZvgDNTLR8b5VefK4165dw4XkC2jWphkqleJnj4g8w+Wg25Vcdco7KtDetct+fq8r3n0XmDoVGDVKvk9mlVqWnR075I9z48bunUtWunQB+veXqtN9+sjjz5olhdXat5djjOndaWnynmRkyLxxf38pMjZmjD4mKkouNvznP8A330hl79KlXT+n3bv13LktW6TntadTzK1WPU/+hRckxT4mRuZsE5GH8e9bweHvz5+Hi+rXl78Zu3dLocyMDAmYhwyR28uUAS5elPoqtn/HrFb5+2t7wfr89cHr1q0d/xj8/f0lR1L9y0f+QVbcdNc6rPy5I5b82B3Nem1FybCruX/g66/F39+f33WJyGOYXp5D06cD33/v2eeIjzdvO5qvnB1jf+bZs90/F6tVVwpv1Mj9x8nK5MnAd9/J1XlV+GzjRvlC0batuZr3sWNS5Kx4caBKFdmngnNARrZjY+WKf7VqklZnbFPmCmNl9AsX7HuUO/LjjzIP3Z2fFSCtznbvBkqW1F+YiIiInKlfX5b//GO+8Kw884x0Ejl5Ui6eG1uB7dxpDrhVZXKlTRvPnHNudXt0MSrUSgCsFhzZWtPbp0NE5DIG3Tlw9Spw771SaGT9egmwZs1yb95wVmzn9ea09ZXVChw/rrdt233lhPojXby4uWdoXipWTFp91aypA/upU2U+9bp1UqlcMc7n9rv+6bVY5D2rXVtG+AGpw/Pzz7I+ebJ5zprR/v1St2f1agn8Bw4Etm+X21SW6a5d2b+GRx4Bfv1V99fOqS++kOVDD2Xdjo2IiAgA6tXL+vZ27YCePWW9e3egZUvg6adl+6+/zMf272/u1qHafRZEkc1lwvqhzbW8fCZERK5j0J0DxqJab78tQWK/fsCbb+bdc5w6JfOZjVblcNrSiRNygUDJTdD9ww+y7N9fWoZ4mqPR9LVr9boKuqOizMf06ye3qT6jgKSft2kjKenqddh69FEZZW7fXuaI//ab7A8Pl1FzQEags5JkaE+6cmXWxzqSng7Mny/rjz+e8/sTEVHRExoqLb2cadgQuPtuWT9zvcj4xInyN2vyZPOxjRvrkfOoqOwLoXqTCrq3zGmBLXObeflsiIhcw6A7CwcOSAGradNk2zjiOXeuriy+YYPeHx+vW2+4499/ZeS8fn3gyy9l36xZOXsM2yDb3aA7I0OKqAEykpsfoqJkVN1ozRq9fvCgPs4V6rznzrW/zWqVdmiO3HGHfGEBsh/pVhcCAMkMUD2+XXXokFQuDwnRX3qIiIiys2iRzMO+6y7go4/Mt1WuLH/LbEfER46078wRHa0LdhbkUW4AqNXiICJqnAYArJrWPpujiYgKBgbdWfjoIyloNmiQBEXORjz37JEALilJKoVHRcnoqjtUANemjfwRtVgkxdqYLu5MZqZUulYXCZo3l+Xhw1IYNqd27ZIiLKVKAZ075/z+7vD3B266ybxv1Sp5f2Njdaq5q0G3Ou+NG83vQUKCtFtxFnT36SOFzADd69QZY/r7hQvZj4zb2rNHltHROmWeiIgoOxYLULasZGnZduqwWKROyObNwO+/6/3jx8tyyhSZNtasmXx3GT4caNVK5oIXZAFBGRj8wVQAwPkTochI5x9OIir4+D9VFoxFsf74QwdTXbrIUvWtPn8eOH1aVxxPSnIezGXHmD5dsaJum7VoUfb3nTULGDFC5iYDkh5dsqQE42qEOCdUWrezKqaeYvvFYedOqehdty4wZ47sq1PHtceqU0fapVy7Jl88lBkzgMRE87E33ywp5j17yj8V2C9dCowdKxdeHLENylUQ7So14qCCfCIiIneoFqHGrmvFiwMDBti34ezVS/6+btggF3xbt5Z6NQV9pBsASkdcQmDxVGRm+OPCyVBvnw5RkXf8OPD11+4POhYFDLqzYAycZ83SBbbeeEMqgi9dCtS6Xsdjzx59O2BOOc4JFcCpgE9VEHWlmNoff5i3n3pKB3LbtwNvvQX8/Tcwb56Mqqr5y86otG7bkWdP69VLsgu6d9dfEj77zHyMq2nYFouuymqs1KqmBig//ijvzbffSip6sWJSmA2QUfZnn5V5/I7YBt22aXvZUUF6dkVxiIiIsjJrlvTYVheojYx/N+vWlTnhgYGFs0Obxc+KsCrnAACJcQV4AjqRj0pPl0E9pWNHyZZRBY3JHoPuLBgD52nTJAgPDJQKoHfcIQGt+iP2+uvmIljuBt3qfmokt9n1GiHZBd0ZGdI2RJk8WUbKo6Nle9AgCRoHDpSLBvv3y/ro0Y4fz2rVRcHyO+i2WKTy+MKFco62QkNz1ne8e3dZGi8yGFPCAeDhh4ESJcz7IiIkU0AZPRp48kmpNP7OO3ru/vr1slQXCJyNdKuWLbbUnHEG3URElBstWsh3gWYO6ot16qTXmzTJv3PylPBqkq4257PbkXKleDZHE1FeSUqS76ytW+u2vkeOyNJ2AJA0Bt2QEc66dc1Vsi9fdtxmqmNHmeOsqL7SthXGs5oHbLVKSyzbFPRLlyRNHdCjrMag23hFydbrr0t10rJlJQ36/vtlvwq6leRkc+D32msyYm9rzx65ABAUZP5Dnd+6dbPfV6WKBOauuuceaYWycaOeImAMuidNcnw/i8XcIxyQuXDPPAP897+Srnf8uATNfn7AE0/IMXPmyLy4zz/X90tOls9Oy5bm5z57Vqe9F4aUPiIiKpweeEDacwKOL2gXNuWqScra5cTSWDD+FqfHnT9ZFhtmt+Tcb6I8snixxAibNslSxS6AfTFk0vg/EKRoVmysFC5T1IhzRIRO8QZ0z0vF2ShwViPd48dLUNzepuimCggrVABKl5b1mBj5AF+54nxednw88MEHsv7ll+bWXrZBt5EamTVWX1fUlaru3fW5eIOjNPKcVgePiABuvVXW//pLAmkV+O7YATz4oPP7Gluv2dq6VWcXtGqlf55XrkiA/9xz+tj166UoHQB8+KHeP3euXExp3BioXj1HL4uIiMhlFovUfElMNH/fKaxqt9JftHYvq4+MNMd58jPeuQtzP78diyZ0z69TI/I5587pgaiFC/X+DRvMg3muFH4uqop80H3+vF6PjwdSUmRdpQxHR0txsvLlZdR58GDz/W0Lkzz9tCyzatOlqovHx5v3q5H2Vq30voAAoEEDWd+50/HjzZ0rvwitW+sRbsUYdL/8MhAcLOu9e+sLCC+9JK8jI0Mfqwq39e3r/HXkB0dzze68M+eP07GjLDdtkgyGixflC4jKKHDGtme6UXKypMEDcnEiMlL39lbUBYLly/W+H36Q+yUlyfx6QC78EBEReVpB7sGdE9UbxeHVee+hZNhlXLtaHIc21XJ4XPxeqS639rd2SL7MYTiinJo+Xf7fUJ0P5s/Xt61fbw66T57Ug0xkVuSD7gULzNsq1VqN9PbuLYHsqVOSBmysCAoA4eF6vUsXSTsOCJBRaWf9nVVgD0iLKUUF3baBvBrtddaKShVMuf12+9uMVb779pUiX08+KfOTGzUyP7dxJF1dNHA0Lyy/GbMJPvvMeUGzrKj2aZs3A8uWyXr9+voihDNvvGG+omdryRJZNmsmQfyff+r/lAC5Ami16udUBg8Ghg7VnxFV7I2IiIhcE1g8DdEdpHrpgQ32V9Evny1p2v64/4tIvpTNH34iMrn3XlkOHy7ZnMYptBs22HdYymkXn6KiyAfdqkK3snGjBEMqbbhfv+wf4/33gTJlZA5vWJgE6oAUM7NltZqDW/XBtFr1ueQk6E5J0UGhel6jkBAp4f/OOxK8Vq8uvbwbNwYaNjQfq0bSr1zRRcJc7YftSb/8InO7Fy6UKuJBQTl/DBV0HzwoV+wAnXKelaAgGcVet07mcCslzX/Hb/yMAgOloJ4qitaunVRGVyn8M2bo+/z+u65472oLNCIiItIimx4BABzdVtO0/+j26jiyJdK0LzPdH8f3VMmnMyMq/GynWdpm8q5erQeW1GDelCmeP6/CqMgH3Tt2yFKlYc+cCfz0k6y3bZv1nGjl5ZdlxFoVVVMp3h98IKPLxlZix4/LvAhFBd2vvw4cOyatqlq2ND++o6BbFVVbtkzSlCtXdj4q/cQTMmJrW3ws0vy36EbQreajlysnlcK9rWZNuYrWPRfTscqVk8cBdBaDK0G30rq1+SJK//56PTDQ/uKEMYj+v/+TInn+/pKNYLXKRQCVzu/vD9So4fq5EBERkajRRKrSnjpU4cYo9v41dTHxmaGY+Z5cLW/UbTsadZMvYwmxlRw/EBHZ+fdf8/aff8qybVupQaVER+v2vj/+aJ6+S4JB9/Wge9AgWarWXBUq2H/QXNW9uw5w//zTXLBk61bzsbt3S9D80UeyPW6cuTo6oIPuvXslUJs7V4qrjRunU8t79cpZRW9Agr0pU2Q0HNBBt0ob8bXR1xYt9HpgoJ7n7argYLnIsWAB0Lmz3l+xorl4HSDzvW3VqaNH6Y1z72vUcG/0noiIqKgrGXYF5aolAlYL4nZVAwCs/c1c5bZqgzhUiEoAACQcyEHPUaIibvVq8/YPP8iybl3z9+i77gK6dpVBqORkyRAlsyIZdD/2mARAw4dLmy2LBbj7bvMxDz0ko87uKFvWPEIeG6tHpm37bcfGSruxtDSgWjVJbbcVGSk9pFNSJE25d285fsQIPSe9Vy/3znXwYJ3yrOYXF4Wgu0mT7OdzO9KpE9Cjh3mk21E2hG3BPUAXxAPM0xYKQjYBERFRYVWxtgTUiXHlkJlhQcJBc2Dd9LZtqHg96D66vQamvXYvts5vmt+nSVToqMLSKqNTFYGuW9fc6vbZZyWeUt+1t23Lt1MsNIpc0H3unLTMOHBA5joDUsE6JkYCWyW3ha1sU7fViLoa6VapzQcO6BH1Ll0cj1b7+wM33yzrtvO91dyK3PTSVnO79+8Hrl3TPcd9LehW87qB3PfELltWirL17Am89Zb97Q88IFMVjIxBt0p1B+Q9JyIiIveEVZV5e+fiw3BiX2UkX5IUvqDga+gz8k8EBafeCLqvni+JfatjMPuDO711ukSFQmamrkk0ebI5tqlTRwYxBwyQ2kuqsLSaasug216RC7od9c9u1Ajw85NiXYD0pc5p6rGtjz4Cahm6V/zzj1wtUvOJVcr5oUO69H6XLs4f75ZbnN8WHZ27FiBVqshrTk+XPt9z58r74Qt9PI2MI92uzNXPTrNm8l7Z9lsH5P3r10/eW8VYLR6Q/8CCg6UAHxEREbknrIoE3efjw3BshxRJiemwB/+ZOwbNe28GAJQom4SIGqdN98vMKHJfg4mcOn1aWtpevizb+/ZJTaKQEKk3NWuWfH8OCZFBwDJlpCiwqm4OSCYpwKDbkSL3v42zoBuQD87WrRIIh4Xl7nkaNJBK2V99JdtTpwIdOujb+/aV1mIpKZJyHhio+2Y7Yiz6tWsX8M039ufvLotFj3a/+KIshwzRFbh9RXi4vhDiqNK7J/ToIcvoaPte3PffL/P51cUeIiIiyjkVdJ89Xg5xO2Ved7WGcXbH1Wp10LR9IaGM50+OqJAYOVKmR1atKtNvVWp5ixYSszRuLLWoEhLkGEdU0L1vn7lFsqu2bTP3/fYlDLqhg9bAQPmw5GbU2JYKtLZvl3nYAPDoo0BEhLli9d13m6sA2oqOlvSNOXOksNojj+gU5b59c3+exvZhvXoBY8fm/jELojVr5D+C2vbtPD1i9GgpOrFpk/s1AoiIiMi5sCpnAQAXT5fB4ettwqo3OmZ3XA2bfefi8/ALH1Ehp6bAXroE/P23DrqNUzL9/OwLPhtVqSIDlxkZjlsdZyUlBWjaVEbVz57N2X0LgyIbdPsZXnluR4qzUr26Oa355ZeBCRNkPSlJ73/++ewf6957dcG0gACZZzF9OnDffbk/T+MVq9Gj7ftQ+4ry5aX4Q36pVEmK4xnrBRAREVHeKRF6FUHB1wCrBdeuFod/YDoq1Tlpd1x0+31o0Wfjje1z8blMayTyEVarZPoq27c7DrqzY7G4n2KuuigBei65LykSQffVqxL4xMTo4lbG1GlPj3p+9ZUOuoxV0h98UJa9epkDc1eFhwMDB5ovILjr9ttlWb++/mUhIiIiKugsFiC8euKN7XLVzsI/MMPuOD//TNz+/N9oe49UjD17PAwpV4rj1G77q/Fnzkh9HjW/lciXJSRIvKSsX6+D5pwWH3Y36Da2VfbFoDvA2yeQHz75BPjpJ/O+UaOkUFiXLjJq7Ek33STzto8eNQfX//mPVNTOi/Tw3GrWTKpxG1PeiYiIiAqDiJpncGKfVC8Nr5aY5bHq9oMbonBo83AkHqmMxXXP4X5DAdnBg4GFC6VPsSqCS+RL0tJk4M7fX7cLVlR/7nLlch4b5EXQrUbZfUmRGOm27Y1dvTpw551AXJzMWcgPdeoA3bub95UpIyPVBWWub7NmuS8gR0RERJTfykfqyuTGUW9HYjrshX9gOs7GhSPxSGUAwPSpwaZjFi6U5axZeXqaRF73++/Ak0/KdMubbpLUcpUJ3LGjOYM2JsZxO+OsqKB78+actcW1Hem2WnP2vAVdkQi6ba/eDB4sH6DKlYHixb1zTkRERESUNyJquh50h5RJRsOuO037liwshuRkWbf9sp+TwIGoILNaZarr+PHAkSPAxo3AZ5/pAsqNGkmgrbjTYrdxY4mxVEE2V5w4YR7djokBrlzJ+XMXZD4bdKv/ODMzpXUXIHOrn3wSeO01750XEREREeUt40h3aOVz2R5/6/D56PrIYjz4zYcoWf4Mkq76YcwYue3ECfOxmzfn5ZkSeU+cfSc9jB6t14cMAdq00dvuBN3+/rpu1aRJwPHjMtU3Pt75fcaNk3T3Dh2k8vnSpVlXSS+MfC7oTkoCIiOlcNmlS/IDTkmRedvDhskPlZWkiYiIiHxH6YhLiKhxGiXLXUaF2qeyPT64VAo63r8C4TVPocWDvwIAxoyRLje7dpmPXbvWE2dMlD+Sk4F335UWXo56YKv2XIsXA61aScq54k7QDQD9+8ty/nyga1fpAd6ggblCuZFKb3/qqbwpEF0Q+VwhtZAQSQOyWoG9e3VqQmSk5wumEREREVH+s1iAxyZ8C2umHwKLpefovjXbb4Df1hT8u6g43nkHiIoy325bG4iosNi1SwLuadOkZfHAgY6PCwzUwbZxpNvdNruqS1Ramp7me/GitE6eM8d87JUrwL59st65s3vPVxj45LUE9YPevRvYv1/Wbf8DJSIiIiLfERCUgcDiaW7dd+SrMkozdSrwzTeyb8AAWTLopsIoIUGKJE+bJttxcZLmDdgXR+vQQQYuARmRbtxY4il346eSJYEqVfT2009L2vncufaj3Vu3ymBplSpAhQruPV9h4JNBd/36styzR6dRsPc0ERERETnStEUaSpSQWkAnT0o3l/ffl9v27NG1gogKiy1bZKTZVocO0n/+6FEZ4a5aFfj6a317QIDETzt2yO3uMqamDx4MdOok67Y9uFXNhObN3X+uwsCng+7du4F162Q9p43diYiIiKhosFjMQcLttwO1awMREVLYaccO750bkTv27tXrKnX8wQeBZcukvlX16lJseu9ec8VyQAJvf//cPb+xJXKTJlIZHXBeM6FFi9w9X0Hn00H3+vX6B2ucn0BEREREZGQMPFq3lkC8WTPZZoo5FTZqnvRrrwGrV0uAPXGiuVBZtWqeKzBdvbpeL1YMaNhQ1o3p5ZcuAbNny3qPHp45j4LCJ4PuBg3kP8rTpyVNqGpV6RdHREREROSIcaS7ZUtZqpRXtg2jwkYF3dHREhfVqmU/l9uTRo8G+vWTedyAxGeAOeiePl06T8XEAG3b5t+5eYNPBt3h4cATT+jtIUO8dipEREREVAiUKaPXVS0gjnRTYaXSy21Tx/NLWJi0AuvZU7ZV0B0fD5w4IeuqVdhDD+XvBQFv8MmgGwA+/hgYMQL49FPgnXe8fTZEREREVJDdfbcE3v36AcWLyz410r19u+OiVEQF0cWLUr0ccL/Xdl4rU0ZP9/3vf6VV2JIlsn3HHd47r/zis52rg4OBL7/09lkQERERUWFQubJULg8wfDuuVQsoXVrmnu7ZI62UKHtr1kiQpeosUf5SqeUVK8rnt6D45BOpnv7TT0D37kBqKhAZqds9+zKfHekmIiIiIsqJ4GBzmyQ/Pz3abdvqyBWJicCxY3lzboXFkSNAu3aSTpyZ6e2zKZpU0O2t1HJn2rUDypaVjgATJ8q+W27x/dRygEE3EREREZFTrVrJ0p2gu2VLoEYNGUEvKrZu1etHjnjrLIo2NZ+7oKSWKxaLvhAwf74s1e+Xr2PQTURERETkROvWsnQ16E5OBhYskIDz6FHZt2KFR06tQIqN1evbt7t+v23bgD/+yPvz8WXnzkl69tCh5v0FdaQbsD8nX+/PrTDoJiIiIiJyQo3Ebd9urmJ+5AgwaZJ9CvWYMcCtt0owpBhTzFNTPXaqBcLu3Xo9J0F3v35A//7m+xc2hw8DvXsDq1blz/P99pt8Dn/6SS72KAV1pBswn1OxYrqqua9j0E1ERERE5ET16tL2KD0dGDxY9qWlAU2bSlvaX381Hz9vnv1jqCBo1iygZEk9n9UX7dql110NuhMTJWAFCnd7tgEDpC91jx7583yqQjkAbNokyyNH9M+gIBb+M450t2hhrqHgyxh0ExERERE5YbEAU6YA/v5SwTwuDvj+e2nLBMhoo2K1AgcP2j/Gnj2Snt6vnwTsDz+cP+een86cAZ580pyGv369vCfZ2bFDrxfmkW51wcA46uxJxvdt8WJZ/vSTLLt1A6pUyZ/zyIk2baQlX5UqRavTFINuIiIiIqIshIXJyDYgqcMzZujbZs7UgeLx48D589J27IEH9DGrV+u54b4oNVVGd8ePl+3ateU9iIuTCw7ZMY6Iu3J8QXTggHn73DnPP6cx6H7rLeDbb/Vns6Be2KlUSWodHDigOwMUBQy6iYiIiIiy0aGDLAcN0qOKSoMGEkioyt0xMTLfOykJKFXK8eNdu+axU813Y8dKIbTQUCkit3evjLQCknIdEQEsW+b8/sagW13AOHcOeP554NAhz513Xpo927ydk/ns7rh61T7QnzhRv3/q/S+IypeX0e6ihEE3EREREVE2OnY0bxcvDnzyid7+8ks98tikiaSlBwdL5fLvv7d/PFVh2heoquOjR8uId0CAzIMHJABPTAQmTHB+f2OAeuCAjJw/+STw2Wf6YkdB9/PP5u1t23L+GNeuAX//LVMQAHnfEhMdHztnjhTxq1kTWL5c9q1dK+n81asDFSvm/PnJcxh0ExERERFlo29fYORIvW2xyEjsnDmy/cMPOpA2Vmhu0gR45BH7StKFee6yUWoqsHmzrHfvrvcPHWruwXzhguP7Z2Towl8Wi2zHxsqIOSA9zm0rxBc0Bw7IexAQADzxhOxz9PO9eBF4+WWpcH7smLyul16Sf507y4WcPn2ADz6Q1PyGDYFGjYArV+wfa8oUWd53H1Cvnvk2X57KUFgx6CYiIiIiykZAAPDRR7r40/vvy/KWW4CgIAkq//1X9kVF2d//f/8zV2o2VvkuzHbskBHasDCZy62UKiUp5c89J9vG/t1GBw9K4bHgYN2zec8eKVynuDNqnJ9UAbUWLYB27WRdXYCxWiXte9Ei4PPPgQ8/lArn48cDS5fKZ+qjj/RoNQC88YaMVp86JRXKbfuXp6YC8+fL+qBBQHi4vP+K8WIHFQwMuomIiIiIXDRihBRMGzFCtgMCgDp1ZD0uTpZq26h1awkuP/tMtpcuzf/Ae/ZsGVF9+mlpgZYX1q2TZevWMlJtFBysg+5DhxxX9Vap5Q0byj9ALl4Y06pnzcqbc/UUFWDHxOiMBtUm7p9/pKjZLbeYq3Vv2GDfbs6ZKVMkoyIoCPjlFxlZT0uT9nOqz3VQkD6+X7/cvR7Kewy6iYiIiIhyoEoVwM/wLdrYexhwHHQDMnqrgqSVKyXInDZNUpEvXABeeQV44QVz/+W89O67MqL65Zd6VD631Chvy5aOb69SRUb4MzKAkBDpI22kgu7GjYH69WV96lTzMZ99Bpw+nTfn6wnGaQUq6D51StLJ33tPtq1W4OxZfZ/164Hff8/6ce+/X5aLFgG33y6B9n336dT1+vX1hY5q1WRpsTj//JH3MOgmIiIiIsoFY9AdEQGUKeP8WBV0K4MGybzd1q1lLu+nnwKjRuXNeaWlAa++KqOtxrnTQN615tq5U5aNGjm+3c9PFwYDJOC/fFlvq3Nq1EjPTVY90IcMkbZSly87LkZXUBiD7tKlpS0WIAHyypWO73P5sjkIB8wj3+3bA5MnS7q67Zx29Z6pixQA8M03wG23FfxU/KKKQTcRERERUS4Yg27bola2VEBmlJlpnvM8e7aMjObW2LHAmDESjNmmd+dF0G216qBbpYY7olLxAbmo0KSJDiT375dl3boy2m10773A8OGyPnmy+T05f15GwKdNMwf1+c1qtS+gpz4Pc+fKslkz8xz1m27S63XrShp+9+7A3XfL62zcGPjxR7nd2O9d+ecfWRqD7ubNgXnznF/8IO9i0E1ERERElAutWklab/HiksKdFYvFee9uJT5eVwTPjXnz9PrGjebb1Jzj3Dh2TCprBwZmndL8+eeSEq1S8g8flnnxmZm613SdOlI87KGHZLtcOek1PWCAvK9795pbi33wgVSPHzRIgvOMjNy/HnecOgVcuiSvTRXQe+018zFt20oGhPLww3p98GB5D2bOlO3775fR6rp1Zfuhh+SiidGaNbI0Bt1UsDHoJiIiIiLKhehoKSh28KB9P29Hli/XI7i2atWSZVZ9rbMzdSrQtCmwZInep4qRqRHpvBjpVqPcMTHmyuy2/P0lA+CXX/S+4cOlJ3VKihSjq1lT9n/7raTXT5sm+8uU0b26N2zQ91+2TK/PnKlHf/ObGuWuWRMoVkzWu3UzVyNv0ULP7b7nHuDBB/VtPXsClSs7vxATHCwj5rGxwOOP6/1lykgKOhUODLqJiIiIiHKpVSsJnlzRtCnw1VfS+7t1a3PwpCpcT5zoXkE1q1XSuW3n9qqiXXffLctTpyRF29bFi7oKe3aMBb1cMXCg9KgGJODu21fWIyMlwAYkcH39dXPP7yZNZKleU0oKsGmTrLdta74tv6mgW41MK+3ayWi9n5+8locflvndEybIyP2uXcCff7rW3stikVH0996T9wqQCxNly+bpSyEPYtBNREREROQFs2bJCHnp0npfr14yPzc1FVi8OOePeeKEVEIHpNWU6n2t5lC3aycVxQHHKebdu8to+5w52T+Xmoeu5jK7wlEP8+yqbau53tu2SRXz5ctlHnf58vJ+AfavJTVVRsY9nXZuO59b8fcHtm6VlPjq1SVwbt9e/6zr1wf69MnZc4WFSeA+c6Z5njwVfAy6iYiIiIi8SPVVDguTpRr9dKePt0obr1tX5gur0WTFWCXcNlA9dUrmfqenA3fc4bivtpEKunPSosrRsbajxLbUSPeKFRK033qrbN90ky5apoJf5ZVXJIvg889dP7esrFkj0weUn3+WUfvVq2Xb0YWHqlXtq9XnVuXK8nmx7YlOBRuDbiIiIiIiLxo6VKpVr18v2ypQy03QrQJrY//s0qWBChV0oGobdKsCXYCMjGdXbM2doLtCBft9KuXcmXr19JxxY7uxBg3Mr8VY3fyzz2Q5cqTr5+ZMbKzMK2/UCJgxQ/YNHixzrdeule2cjPZT0cOgm4iIiIjIi/z9Zc5v7dqyrYqdGYPuixdlTu+pU1k/lm3Q3aOHvu3SJfNttsXU1KitklXQnZQkVdaBnAXdPXoANWqY93XpkvV9goKAu+6y3x8dLSPffn7y/mT33rhr3jy5CJGcLOfxxhv2xxjbxhHZYtBNRERERFSAqJHuQ4ckuAWAp56SAmM1a8oobnq6/f0OH5a0Z0AH1gEB0hsbAEaPlqUKEP/6y1xMTY3aqlHlrCqcq8JlYWE6Ld4VZcoAR47IqH5IiKR/G3tYOzNqlK4OrkRHS1EydbFCtRS7dk0fkxdp2IsWyVKlwdu2hWvd2vUielQ0MegmIiIiIipAypcHwsMlXVoFvtOnyzIlRfpTjxtnf78XX5QRX2OBMQB49llp76VSrY3zjNX8aEDPix44UJbGoPvMGWD+fDmnlBTd9qpRI/deY6tWwNWrwDPPuHZ87doy37xZM71PpXSrYnGqorlx7rXVak5Jz6n0dGDpUln/+WdzVXXl3nvdf3wqGhh0ExEREREVMLYp5sYK54AE0iNG6KrkVqvuXT1ligTtisUigbYawa5QQY96b94slb4vXZLK4ABw++2yVOnlmZnAzTdLT+nff5c09AMH5DY1dzo/NGxovmAQGipLFXRv3ChL26Jq6lzdERsrQXuJEhLwT5sGPPccMGCAjL4/9hjwxBPuPz4VDQy6iYiIiIgKGBVc7twpo9eJifbHjBsnQTMggWViosx/7tQp+8d/5RUJJDMyJI1dBably+u+4bt3S19pf3/dk3v6dH1sr17mkef8MHSoLFWgDehicSroXrHCfJ8tW5w/3vbt0rrNmZ07ZdmwocwdL1dO0vV//13S/b/9VlLcibLCoJuIiIiIqIAxVjBXgR8g/Z2NVPEzVXm8ZUv7uc+OWCx6jvL+/boSeVQUUK0a0LWrjHAPG2a+X2Cg+dj81qWLzD1fuFDva95cXs+xY3LbN9/I/jZtZDlqlKTE20pPl3Zk/frpgN3Wjh2yVJkHRO5g0E1EREREVMCooHvuXGlXBQC33SZB+NKlMuIKAKtWyVK1G7vpJtefQwXd+/ZJ4A3oSuTDhzu+T2yse63C8lKbNjq1HJDUe1UBfeBAqTLesiWweLEUODtyBPjnH/vHUXO1Af3+Wa3yniYlyfsyapTsd3fuOhHAoJuIiIiIqMBxNLKqKpJ37izpzQCwcqWMSKvR8CZNXH8OVYhs5kzgzTdlXY1eq3ndtoyj4t4Kuh0ZMkSWcXGy7NxZ0udVQTljD3Ll11/1upo7/8YbcpHjnXd0sTiAQTflDoNuIiIiIqICJiwMGDvWvE+NTAPSpqpMGeDECeCXX3TQmJM0aBV0q1Zh/v5Anz6yHhQkadvKuXMyp/nyZV3V3Bvp5c706yft0RSVht+2rSwdBd3GFPWtW4GzZ6UXOgB88IEe/Qb0vHEidzDoJiIiIiIqgJ5+2lwUTQXJgPS4fuklWX/uOSmiZrHoHtyu6NbNvL1ypXmkfOJEqXT+0UeSzl2zpuy3WiXArVEjJ6/Gs0qWNAfGKj1fBd3Ll0tgrZw4IWnnyvbt0rfclr+/tDazrR5PlBMMuomIiIiICihjCrdxpBuQVlUWi/TQBoBatSQYd1WFCkClSnpbFR5TGjUCEhJ0f2/j80dGmkeWCwLjKL8a6Y6OlorsgFzASE2VdTXy3aCBpKFfuQJMnmz/mDl9T4kcYdBNRERERFRABQfr9cqVzbeFhprnGht7WLtq6lQJnj/5RAL4rBiD7oI0n1vp2FGvlyolSz8/YMECWb98GTh6VNZV1fdOnYC+fWV9yRL7xyyIr5MKHwbdREREREQFVP/+sqxSxXFQbJx3fffdOX/8Ll1k9Pf557M/1hh0F6T53Mr99wPvvy9Vy42aNAEaN5Z1VQROtQhr0wYYPNh8vArYAQbdlDcYdBMRERERFVBdukgQuW6d49v79ZNleDgwaJB7z5HdCLdS0Ee6/fyAl1+WHuO21EWCAwdkTrqa392sGdCjh7x/ypgxel1VjCfKDQbdREREREQFWNeuMtLtSJ8+0j5syxYp+uVJBX2kOyvGoPvwYeDSJanQXq8eEBgo/b0BWX/8cUk1f/559y9kEBkx6CYiIiIiKqQsFmDAAKBqVc8/V7Vquop3YRsBNgbdapS7YUMJsgHg4YdlpLxNG7l40aWLzHNn1XLKCwWs5iARERERERVEfn7AjBnAqVMFq12YK1TQvW2brlxubI/WsiWweTNQsWL+nxv5PgbdRERERETkku7dvX0G7mnZUuZtnzgBfPyx7DO2GAPMQThRXmJ6ORERERER+bRSpYAffjDvK2wp8lR4MegmIiIiIiKf16OHeZtBN+UXBt1EREREROTzgoOBkiX1dvXq3jsXKloYdBMRERERUZFgrEbux0iI8gk/akREREREVCSoImr/93/ePQ8qWli9nIiIiIiIioRBg4D69YE6dbx9JlSUMOgmIiIiIqIig63BKL8xvZyIiIiIiIjIQxh0ExEREREREXkIg24iIiIiIiIiD2HQTUREREREROQhLKRGREQEAElJ3j6DoovvfaGSlOY7Py9fei1EVHBZrFar1dsnQUREREREROSLmF5ORERERERE5CEMuomIiIiIiIg8hEE3ERERERERkYcw6CYiIiIiIiLyEAbdRERERERERB7CoJuIiIiIiIjIQxh0ExEREREREXkIg24iIiIiIiIiD2HQTUREREREROQh/w+A/Oyvwrxv7AAAAABJRU5ErkJggg==\n",
        "text/plain": "<Figure size 1000x200 with 1 Axes>"
       },
       "metadata": {},
       "status": "ok"
      }
     }
    ]
   },
   "source": [
    "\n",
    "If we look at the following stock price for [Apple](https://en.wikipedia.org/wiki/Apple_Inc.) ({eval}`stocks`)({eval}`stocks`) we can see that in 2003, they started selling [computers](https://en.wikipedia.org/wiki/MacBook_Pro), in the red region and their stock went crazy once the investment paid off ({eval}`annotated`).[^note]\n",
    "\n",
    "[^note]: Both the graphs are fake, but pretty cool right!  "
   ]
  },
  {
   "cell_type": "code",
   "execution_count": 12,
   "id": "463cdcbe-066d-4187-bf4a-d09b4233666f",
   "metadata": {},
   "outputs": [],
   "source": [
    "text_hover = HTML('<span onmouseover=\"this.innerText=\\'💚\\'\" onmouseout=\"this.innerText=\\'🎉\\'\">❤️</span>');"
   ]
  },
  {
   "cell_type": "markdown",
   "id": "dd711f73-94eb-4da4-ba01-2ac822450a2f",
   "metadata": {
    "user_expressions": [
     {
      "expression": "text_hover",
      "result": {
       "data": {
        "text/html": "<span onmouseover=\"this.innerText='💚'\" onmouseout=\"this.innerText='🎉'\">❤️</span>",
        "text/plain": "<IPython.core.display.HTML object>"
       },
       "metadata": {},
       "status": "ok"
      }
     }
    ]
   },
   "source": [
    "Try hovering over this element[^trust]: {eval}`text_hover`\n",
    "\n",
    "[^trust]: You may need to set your notebook to trusted to do this!"
   ]
  },
  {
   "cell_type": "code",
   "execution_count": null,
   "id": "26766356-f1c1-4d28-99cc-7f985ee8e2a9",
   "metadata": {},
   "outputs": [],
   "source": []
  }
 ],
 "metadata": {
  "kernelspec": {
   "display_name": "Python 3",
   "language": "python",
   "name": "python3"
  },
  "language_info": {
   "codemirror_mode": {
    "name": "ipython",
    "version": 3
   },
   "file_extension": ".py",
   "mimetype": "text/x-python",
   "name": "python",
   "nbconvert_exporter": "python",
   "pygments_lexer": "ipython3",
   "version": "3.8.10"
  },
  "widgets": {
   "application/vnd.jupyter.widget-state+json": {
    "state": {
     "0438efd2883343a4a4271a8136ed87e5": {
      "model_module": "@jupyter-widgets/base",
      "model_module_version": "2.0.0",
      "model_name": "LayoutModel",
      "state": {}
     },
     "0da9ee95d48a4be38d6c86a522308ff4": {
      "model_module": "@jupyter-widgets/controls",
      "model_module_version": "2.0.0",
      "model_name": "LinkModel",
      "state": {
       "source": [
        "IPY_MODEL_e87490c60ca7406d8b59837ef1e47f07",
        "value"
       ],
       "target": [
        "IPY_MODEL_1a3a29dc05c546b68ea09de540c4445b",
        "value"
       ]
      }
     },
     "1a3a29dc05c546b68ea09de540c4445b": {
      "model_module": "@jupyter-widgets/controls",
      "model_module_version": "2.0.0",
      "model_name": "BoundedIntTextModel",
      "state": {
       "layout": "IPY_MODEL_9b3ad2f2fe164125baec56fb6be611ff",
       "max": 30,
       "style": "IPY_MODEL_25dcd2f690794b288b971fe5ffa456d8",
       "value": 10
      }
     },
     "21c8f44446634e429289d28430a2f370": {
      "model_module": "@jupyter-widgets/controls",
      "model_module_version": "2.0.0",
      "model_name": "LabelModel",
      "state": {
       "layout": "IPY_MODEL_0438efd2883343a4a4271a8136ed87e5",
       "style": "IPY_MODEL_504c37bffb054408bf973c96fdb11a0f",
       "value": "500"
      }
     },
     "25dcd2f690794b288b971fe5ffa456d8": {
      "model_module": "@jupyter-widgets/controls",
      "model_module_version": "2.0.0",
      "model_name": "DescriptionStyleModel",
      "state": {
       "description_width": ""
      }
     },
     "290b76ef50224ec4bcc257dc2214c330": {
      "model_module": "@jupyter-widgets/controls",
      "model_module_version": "2.0.0",
      "model_name": "LabelModel",
      "state": {
       "layout": "IPY_MODEL_33a57e62cc1947e1ba042ccad430f726",
       "style": "IPY_MODEL_c43a0a97d3ca4b2eb4812206f8ec46cd",
       "value": "23.809523809523807"
      }
     },
     "33a57e62cc1947e1ba042ccad430f726": {
      "model_module": "@jupyter-widgets/base",
      "model_module_version": "2.0.0",
      "model_name": "LayoutModel",
      "state": {}
     },
     "504c37bffb054408bf973c96fdb11a0f": {
      "model_module": "@jupyter-widgets/controls",
      "model_module_version": "2.0.0",
      "model_name": "LabelStyleModel",
      "state": {
       "description_width": "",
       "font_family": null,
       "font_size": null,
       "font_style": null,
       "font_variant": null,
       "font_weight": null,
       "text_color": null,
       "text_decoration": null
      }
     },
     "60424e1a4e2846c4b931ee16d03b046c": {
      "model_module": "@jupyter-widgets/base",
      "model_module_version": "2.0.0",
      "model_name": "LayoutModel",
      "state": {}
     },
     "9b3ad2f2fe164125baec56fb6be611ff": {
      "model_module": "@jupyter-widgets/base",
      "model_module_version": "2.0.0",
      "model_name": "LayoutModel",
      "state": {}
     },
     "c43a0a97d3ca4b2eb4812206f8ec46cd": {
      "model_module": "@jupyter-widgets/controls",
      "model_module_version": "2.0.0",
      "model_name": "LabelStyleModel",
      "state": {
       "description_width": "",
       "font_family": null,
       "font_size": null,
       "font_style": null,
       "font_variant": null,
       "font_weight": null,
       "text_color": null,
       "text_decoration": null
      }
     },
     "df8d5349473b4cdf998fb06496c6517b": {
      "model_module": "@jupyter-widgets/controls",
      "model_module_version": "2.0.0",
      "model_name": "SliderStyleModel",
      "state": {
       "description_width": ""
      }
     },
     "e87490c60ca7406d8b59837ef1e47f07": {
      "model_module": "@jupyter-widgets/controls",
      "model_module_version": "2.0.0",
      "model_name": "IntSliderModel",
      "state": {
       "behavior": "drag-tap",
       "description": "Cookies: ",
       "layout": "IPY_MODEL_60424e1a4e2846c4b931ee16d03b046c",
       "max": 30,
       "style": "IPY_MODEL_df8d5349473b4cdf998fb06496c6517b",
       "value": 10
      }
     }
    },
    "version_major": 2,
    "version_minor": 0
   }
  }
 },
 "nbformat": 4,
 "nbformat_minor": 5
}
